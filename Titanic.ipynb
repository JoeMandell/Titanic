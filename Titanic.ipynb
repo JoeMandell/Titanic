{
 "cells": [
  {
   "cell_type": "markdown",
   "metadata": {},
   "source": [
    "Imports"
   ]
  },
  {
   "cell_type": "code",
   "execution_count": 28,
   "metadata": {},
   "outputs": [],
   "source": [
    "import numpy as np\n",
    "import pandas as pd\n",
    "import matplotlib.pyplot as plt\n",
    "import seaborn as sns\n",
    "from sklearn.model_selection import train_test_split\n",
    "from sklearn.neighbors import KNeighborsClassifier\n",
    "from sklearn.metrics import confusion_matrix,accuracy_score\n",
    "from sklearn.model_selection import StratifiedKFold\n",
    "from sklearn.model_selection import cross_val_score\n",
    "from sklearn import tree\n",
    "from sklearn import svm\n",
    "import hashlib\n",
    "\n",
    "\n",
    "#read from our local copy of the training data\n",
    "df = pd.read_csv('titanic/train.csv')\n"
   ]
  },
  {
   "cell_type": "markdown",
   "metadata": {},
   "source": [
    "Data Processing"
   ]
  },
  {
   "cell_type": "code",
   "execution_count": null,
   "metadata": {},
   "outputs": [],
   "source": [
    "\n",
    "#read from our local copy of the training data\n",
    "df = pd.read_csv('titanic/train.csv')\n",
    "\n",
    "\n",
    "#our code is in df\n",
    "df.describe(include='all')\n",
    "#remove columns with missing data\n",
    "df.dropna(subset=[n for n in df if n != 'Cabin'], inplace=True)\n",
    "\n",
    "#remove columns we don't need\n",
    "#justification - Ticket number and name are both unique, unlikely to find patterns unless we do NLP on the names as a proxy for ethnicity/wealth\n",
    "df.drop(labels=['Ticket','Name'],inplace=True,axis=1) #inplace true - we aren't making a copy. axis 1, since we are removing a column not a row\n",
    "\n",
    "\n",
    "#turn categorical to quantitative\n",
    "df = df.replace(to_replace='male', value=1).replace(to_replace='female', value=0)\n",
    "#strip away cabin numbers and just leave the cabin grouping (one of 8 letters)\n",
    "df['Cabin'] = df['Cabin'].str[0]\n",
    "df = onehot_helper(df, 'Cabin', True)\n",
    "\n",
    "\n",
    "df.describe(include='all')\n",
    "\n"
   ]
  },
  {
   "cell_type": "markdown",
   "metadata": {},
   "source": [
    "Data Visualization"
   ]
  },
  {
   "cell_type": "code",
   "execution_count": null,
   "metadata": {},
   "outputs": [],
   "source": [
    "\n",
    "plt.figure()\n",
    "#df.describe(include=\"all\")\n",
    "new = df.dropna()\n",
    "# plt.figure()\n",
    "sns.pairplot(new, vars = ['Sex','Fare','Pclass'],hue = \"Survived\",height = 1)\n",
    "# plt.show()\n",
    "\n",
    "#sns.pairplot(df, vars = ['A','B','C','D','E','F','G','T'],hue = \"Survived\")\n",
    "\n",
    "plt.show()"
   ]
  },
  {
   "cell_type": "markdown",
   "metadata": {},
   "source": [
    "Testing"
   ]
  },
  {
   "cell_type": "code",
   "execution_count": null,
   "metadata": {},
   "outputs": [],
   "source": []
  },
  {
   "cell_type": "markdown",
   "metadata": {},
   "source": [
    "Utility Functions"
   ]
  },
  {
   "cell_type": "code",
   "execution_count": 41,
   "metadata": {},
   "outputs": [],
   "source": [
    "#\n",
    "def onehot_helper(originaldf, feature, remove_original):\n",
    "    \n",
    "    #turn the categorical data into one-hot dataframe\n",
    "    dummydf = pd.get_dummies(df[feature],dtype=np.uint8)\n",
    "    #concatenate the dataframe back onto df\n",
    "    out = pd.concat([originaldf,dummydf], axis = 1)\n",
    "    if remove_original:\n",
    "        originaldf.drop(labels = [feature], inplace = True, axis = 1)\n",
    "    return(out)\n",
    "    "
   ]
  },
  {
   "cell_type": "markdown",
   "metadata": {},
   "source": []
  }
 ],
 "metadata": {
  "kernelspec": {
   "display_name": "Python 3",
   "language": "python",
   "name": "python3"
  },
  "language_info": {
   "codemirror_mode": {
    "name": "ipython",
    "version": 3
   },
   "file_extension": ".py",
   "mimetype": "text/x-python",
   "name": "python",
   "nbconvert_exporter": "python",
   "pygments_lexer": "ipython3",
   "version": "3.12.1"
  }
 },
 "nbformat": 4,
 "nbformat_minor": 2
}
